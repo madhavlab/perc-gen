{
 "cells": [
  {
   "cell_type": "code",
   "execution_count": null,
   "metadata": {},
   "outputs": [],
   "source": [
    "import librosa\n",
    "from tqdm import tqdm\n",
    "import os\n",
    "import matplotlib.pyplot as plt\n",
    "import BeatNet\n",
    "import numpy as np\n",
    "from BeatNet.BeatNet import BeatNet\n",
    "from madmom.features.tempo import TempoEstimationProcessor\n",
    "from madmom.features.beats import RNNBeatProcessor\n",
    "import essentia.standard as es\n",
    "import pandas as pd\n"
   ]
  },
  {
   "cell_type": "code",
   "execution_count": null,
   "metadata": {},
   "outputs": [],
   "source": [
    "fps = 100\n",
    "sr = 22050"
   ]
  },
  {
   "cell_type": "code",
   "execution_count": null,
   "metadata": {},
   "outputs": [],
   "source": [
    "def tempo_librosa(y,sr):\n",
    "    return librosa.feature.tempo(y = y, sr=sr)"
   ]
  },
  {
   "cell_type": "code",
   "execution_count": null,
   "metadata": {},
   "outputs": [],
   "source": [
    "def tempo_essentia(y):\n",
    "    rhythm_extractor = es.RhythmExtractor2013(method=\"multifeature\")\n",
    "    tempo, _,_, _, _ = rhythm_extractor(y)\n",
    "    return tempo"
   ]
  },
  {
   "cell_type": "code",
   "execution_count": null,
   "metadata": {},
   "outputs": [],
   "source": [
    "def tempo_madmom(y):\n",
    "    bt_prob_fn1 = RNNBeatProcessor()\n",
    "    bt_prob1 = bt_prob_fn1(y)\n",
    "    tmp_est_proc = TempoEstimationProcessor(method = 'dbn', fps = 100)\n",
    "    tempo1 = tmp_est_proc(bt_prob1)\n",
    "\n",
    "    def find_max_in_second_column(matrix):\n",
    "        max_value = float('-inf')\n",
    "        corresponding_element = None\n",
    "    \n",
    "        for row in matrix:\n",
    "            if row[1] > max_value:\n",
    "                max_value = row[1]\n",
    "                corresponding_element = row[0]\n",
    "        return corresponding_element\n",
    "    tempo = find_max_in_second_column(tempo1)\n",
    "    # print('Estimated Tempo:',tempo)\n",
    "    return tempo"
   ]
  },
  {
   "cell_type": "code",
   "execution_count": null,
   "metadata": {},
   "outputs": [],
   "source": [
    "def tempo_beatnet(y):\n",
    "    estimator = BeatNet(1, mode='offline', inference_model='DBN', plot=[], thread=False)\n",
    "    Output1= estimator.process(y)\n",
    "    original_array1 = Output1[:,0]\n",
    "    if len(original_array1 ==1):\n",
    "        if original_array1[0]==0:\n",
    "            tempo = 60/10000\n",
    "        else:\n",
    "            tempo = 60/original_array1[0]\n",
    "    else:\n",
    "        differences1 = [original_array1[i+1] - original_array1[i] for i in range(len(original_array1)-1)]\n",
    "        tempo = [60 / differences1[-1]]\n",
    "    return tempo"
   ]
  },
  {
   "cell_type": "code",
   "execution_count": null,
   "metadata": {},
   "outputs": [],
   "source": [
    "sensor_input_file =r'sensor input csv file'\n",
    "data_frame1 = pd.read_csv(sensor_input_file)\n",
    "sensor_input = data_frame1['Index']"
   ]
  },
  {
   "cell_type": "code",
   "execution_count": null,
   "metadata": {},
   "outputs": [],
   "source": [
    "def sensor_2_audio(sensor_input):\n",
    "    activ_arr = []\n",
    "    for i in (range(len(sensor_input))):\n",
    "        if(sensor_input[i]!=0):\n",
    "            activ_arr.append(1)\n",
    "        else:\n",
    "            activ_arr.append(0)\n",
    "\n",
    "    flag = 0\n",
    "    for i in (range(0,len(activ_arr))):\n",
    "        if (activ_arr[i]==1 and flag==0):\n",
    "            flag = 1\n",
    "        elif (activ_arr[i]==1 and flag==1):\n",
    "            activ_arr[i] = 0\n",
    "        elif (activ_arr[i]==0 and flag==1):\n",
    "            flag = 0\n",
    "            \n",
    "    activ_arr = np.array(activ_arr, float)\n",
    "    activ_arr = librosa.resample(activ_arr, orig_sr = 200, target_sr = 22050)\n",
    "    return activ_arr"
   ]
  },
  {
   "cell_type": "code",
   "execution_count": null,
   "metadata": {},
   "outputs": [],
   "source": [
    "input_to_tempo_est= sensor_2_audio(sensor_input)\n",
    "frames_lr= librosa.util.frame(input_to_tempo_est, frame_length=10*sr, hop_length=350)"
   ]
  },
  {
   "cell_type": "code",
   "execution_count": null,
   "metadata": {},
   "outputs": [],
   "source": [
    "tempo_lr = []\n",
    "tempo_mm = []\n",
    "tempo_es = []\n",
    "tempo_btn = []\n",
    "\n",
    "for i in tqdm(range(range(len(frames_lr[0,:])))):\n",
    "    tempo_lr.append(tempo_librosa(y = frames_lr[:,i], sr=sr))\n",
    "    tempo_es.append(tempo_essentia(frames_lr[:,i]))\n",
    "    tempo_mm.append(tempo_madmom(frames_lr[:,i]))\n",
    "    tempo_btn.append(tempo_beatnet(frames_lr[:,i]))\n",
    "\n"
   ]
  }
 ],
 "metadata": {
  "kernelspec": {
   "display_name": "practice",
   "language": "python",
   "name": "python3"
  },
  "language_info": {
   "codemirror_mode": {
    "name": "ipython",
    "version": 3
   },
   "file_extension": ".py",
   "mimetype": "text/x-python",
   "name": "python",
   "nbconvert_exporter": "python",
   "pygments_lexer": "ipython3",
   "version": "3.10.12"
  },
  "orig_nbformat": 4
 },
 "nbformat": 4,
 "nbformat_minor": 2
}
